{
  "cells": [
    {
      "cell_type": "markdown",
      "metadata": {
        "id": "yhI-otwO8YDr"
      },
      "source": [
        "# Chapter 1 - Introduction: Key Concepts, Notation, Set Theory, Relations, and Functions\n",
        "\n",
        "This notebook contains code accompanying Chapter 1 Introduction: Key Concepts, Notation, Set Theory, Relations, and Functions in *Practical Discrete Mathematics* by Ryan T. White and Archana Tikayat Ray\n",
        "\n",
        "## Functions and Relations\n",
        "\n",
        "### The `sort()` function"
      ]
    },
    {
      "cell_type": "code",
      "source": [],
      "metadata": {
        "id": "aCj7zo92WbbR"
      },
      "execution_count": null,
      "outputs": []
    },
    {
      "cell_type": "code",
      "execution_count": null,
      "metadata": {
        "id": "Ah6UMJDB8YDu",
        "outputId": "99076ed6-508f-4d1b-93bb-10752da86e73"
      },
      "outputs": [
        {
          "name": "stdout",
          "output_type": "stream",
          "text": [
            "[1, 2, 3, 4, 5, 8, 9, 12]\n",
            "['Brandon', 'Elise', 'Eugene', 'Kumar', 'Wyatt']\n"
          ]
        }
      ],
      "source": [
        "numbers = [3, 1, 4, 12, 8, 5, 2, 9]\n",
        "names = ['Wyatt', 'Brandon', 'Kumar', 'Eugene', 'Elise']\n",
        "\n",
        "# Apply the sort() function to the lists\n",
        "numbers.sort()\n",
        "names.sort()\n",
        "\n",
        "# Display the output\n",
        "print(numbers)\n",
        "print(names)"
      ]
    },
    {
      "cell_type": "markdown",
      "metadata": {
        "id": "-ih7H_nB8YDw"
      },
      "source": [
        "### The `shuffle()` function"
      ]
    },
    {
      "cell_type": "code",
      "execution_count": 3,
      "metadata": {
        "id": "KUucutbm8YDx",
        "outputId": "e55588ab-e19d-4259-884a-6914aed3b3a6",
        "colab": {
          "base_uri": "https://localhost:8080/"
        }
      },
      "outputs": [
        {
          "output_type": "stream",
          "name": "stdout",
          "text": [
            "[12, 2, 1, 5, 9, 3, 8, 4]\n",
            "[4, 2, 8, 3, 1, 12, 5, 9]\n",
            "[4, 5, 1, 9, 3, 8, 12, 2]\n",
            "[9, 12, 2, 8, 5, 3, 4, 1]\n",
            "[9, 8, 4, 3, 12, 1, 5, 2]\n"
          ]
        }
      ],
      "source": [
        "import random\n",
        "\n",
        "# Set a random seed so the code is reproducible\n",
        "random.seed(1)\n",
        "\n",
        "# Run the random.shuffle() function 5 times and display the outputs\n",
        "for i in range(0,5):\n",
        "    numbers = [3, 1, 4, 12, 8, 5, 2, 9]\n",
        "    random.shuffle(numbers)\n",
        "    print(numbers)"
      ]
    },
    {
      "cell_type": "markdown",
      "source": [
        "Q1: randomly create 2 set of number, find the comon number in the 2 set\n",
        "\n",
        "Set A: [3, 7, 15, 23, 42, 58, 67]\n",
        "\n",
        "Set B: [7, 12, 23, 34, 42, 56, 67]\n",
        "\n",
        "Common numbers: [7, 23, 42, 67]\n",
        "\n",
        "Q2:shuffle the character in a random name. for example apple chan, after shuffle eplepa nhac\n",
        "\n",
        "Random name: DING ANG HENZ\n",
        "\n",
        "After shuffling: zneigh dgn a\n",
        "\n",
        "Question3: extract a table from wikipedia https://en.wikipedia.org/wiki/Frieren\n",
        "\n"
      ],
      "metadata": {
        "id": "WTGNu8iM8Z-D"
      }
    },
    {
      "cell_type": "code",
      "source": [
        "# This code will prompt the user to enter their name and then greet them\n",
        "\n",
        "# Taking user input\n",
        "user_name = input(\"Enter your name: \")\n",
        "\n",
        "# Displaying the greeting message\n",
        "print(f\"Hello, {user_name}! Welcome to Google Colab.\")"
      ],
      "metadata": {
        "id": "N0rYbM-EWdYf",
        "outputId": "fc9fffc5-2a2d-457b-860e-d4b96647e6e1",
        "colab": {
          "base_uri": "https://localhost:8080/"
        }
      },
      "execution_count": 1,
      "outputs": [
        {
          "output_type": "stream",
          "name": "stdout",
          "text": [
            "Enter your name: henz\n",
            "Hello, henz! Welcome to Google Colab.\n"
          ]
        }
      ]
    },
    {
      "cell_type": "code",
      "source": [
        "!pip install pandas\n",
        "\n",
        "import pandas as pd\n",
        "from itertools import product\n",
        "\n",
        "propositions = ['p', 'q']\n",
        "truth_values = [True, False]\n",
        "\n",
        "combinations = list(product(truth_values, repeat=len(propositions)))\n",
        "\n",
        "def evaluate_expression(p, q):\n",
        "    return (not p and q) or (p and not q)\n",
        "\n",
        "truth_table = pd.DataFrame(combinations, columns=propositions)\n",
        "truth_table['Expression'] = [evaluate_expression(p, q) for p, q in combinations]\n",
        "\n",
        "print(truth_table)\n"
      ],
      "metadata": {
        "id": "FlzqiFzqXITm",
        "outputId": "2418b763-88c3-433c-e42a-7c4b44b096d0",
        "colab": {
          "base_uri": "https://localhost:8080/"
        }
      },
      "execution_count": 2,
      "outputs": [
        {
          "output_type": "stream",
          "name": "stdout",
          "text": [
            "Requirement already satisfied: pandas in /usr/local/lib/python3.10/dist-packages (2.2.2)\n",
            "Requirement already satisfied: numpy>=1.22.4 in /usr/local/lib/python3.10/dist-packages (from pandas) (1.26.4)\n",
            "Requirement already satisfied: python-dateutil>=2.8.2 in /usr/local/lib/python3.10/dist-packages (from pandas) (2.8.2)\n",
            "Requirement already satisfied: pytz>=2020.1 in /usr/local/lib/python3.10/dist-packages (from pandas) (2024.2)\n",
            "Requirement already satisfied: tzdata>=2022.7 in /usr/local/lib/python3.10/dist-packages (from pandas) (2024.2)\n",
            "Requirement already satisfied: six>=1.5 in /usr/local/lib/python3.10/dist-packages (from python-dateutil>=2.8.2->pandas) (1.16.0)\n",
            "       p      q  Expression\n",
            "0   True   True       False\n",
            "1   True  False        True\n",
            "2  False   True        True\n",
            "3  False  False       False\n"
          ]
        }
      ]
    },
    {
      "cell_type": "code",
      "source": [
        "import pandas as pd\n",
        "import itertools\n",
        "\n",
        "# Function to evaluate the proposition\n",
        "def evaluate_proposition(props, proposition):\n",
        "    results = []\n",
        "    for values in props:\n",
        "        local_vars = {f'P{i+1}': val for i, val in enumerate(values)}\n",
        "        results.append(eval(proposition, {}, local_vars))\n",
        "    return results\n",
        "\n",
        "# Function to generate the truth table\n",
        "def generate_truth_table(proposition, num_vars):\n",
        "    # Generate all combinations of truth values\n",
        "    combinations = list(itertools.product([True, False], repeat=num_vars))\n",
        "\n",
        "    # Evaluate the proposition for each combination\n",
        "    results = evaluate_proposition(combinations, proposition)\n",
        "\n",
        "    # Create a dataframe\n",
        "    columns = [f'P{i+1}' for i in range(num_vars)] + [proposition]\n",
        "    df = pd.DataFrame(combinations, columns=columns[:-1])\n",
        "    df[proposition] = results\n",
        "\n",
        "    return df\n",
        "\n",
        "# User input for proposition and number of variables\n",
        "proposition = input(\"Enter a propositional statement (e.g., 'P1 and P2 or not P3'): \")\n",
        "num_vars = int(input(\"Enter the number of propositional variables: \"))\n",
        "\n",
        "# Generate and display the truth table\n",
        "truth_table = generate_truth_table(proposition, num_vars)\n",
        "print(truth_table)\n",
        "\n",
        "\n"
      ],
      "metadata": {
        "id": "uUZE_h7rcz0K",
        "outputId": "80ab0def-f060-45ae-ab57-e1cfe9674377",
        "colab": {
          "base_uri": "https://localhost:8080/",
          "height": 356
        }
      },
      "execution_count": 8,
      "outputs": [
        {
          "name": "stdout",
          "output_type": "stream",
          "text": [
            "Enter a propositional statement (e.g., 'P1 and P2 or not P3'): P1 NOT P2\n",
            "Enter the number of propositional variables: 1\n"
          ]
        },
        {
          "output_type": "error",
          "ename": "SyntaxError",
          "evalue": "invalid syntax (<string>, line 1)",
          "traceback": [
            "Traceback \u001b[0;36m(most recent call last)\u001b[0m:\n",
            "  File \u001b[1;32m\"/usr/local/lib/python3.10/dist-packages/IPython/core/interactiveshell.py\"\u001b[0m, line \u001b[1;32m3553\u001b[0m, in \u001b[1;35mrun_code\u001b[0m\n    exec(code_obj, self.user_global_ns, self.user_ns)\n",
            "  File \u001b[1;32m\"<ipython-input-8-00a271b2e9fb>\"\u001b[0m, line \u001b[1;32m32\u001b[0m, in \u001b[1;35m<cell line: 32>\u001b[0m\n    truth_table = generate_truth_table(proposition, num_vars)\n",
            "  File \u001b[1;32m\"<ipython-input-8-00a271b2e9fb>\"\u001b[0m, line \u001b[1;32m18\u001b[0m, in \u001b[1;35mgenerate_truth_table\u001b[0m\n    results = evaluate_proposition(combinations, proposition)\n",
            "\u001b[0;36m  File \u001b[0;32m\"<ipython-input-8-00a271b2e9fb>\"\u001b[0;36m, line \u001b[0;32m9\u001b[0;36m, in \u001b[0;35mevaluate_proposition\u001b[0;36m\u001b[0m\n\u001b[0;31m    results.append(eval(proposition, {}, local_vars))\u001b[0m\n",
            "\u001b[0;36m  File \u001b[0;32m\"<string>\"\u001b[0;36m, line \u001b[0;32m1\u001b[0m\n\u001b[0;31m    P1 NOT P2\u001b[0m\n\u001b[0m       ^\u001b[0m\n\u001b[0;31mSyntaxError\u001b[0m\u001b[0;31m:\u001b[0m invalid syntax\n"
          ]
        }
      ]
    }
  ],
  "metadata": {
    "kernelspec": {
      "display_name": "Python 3",
      "name": "python3"
    },
    "language_info": {
      "name": "python"
    },
    "colab": {
      "provenance": []
    }
  },
  "nbformat": 4,
  "nbformat_minor": 0
}